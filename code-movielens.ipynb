{
 "cells": [
  {
   "cell_type": "markdown",
   "id": "731d5af3",
   "metadata": {},
   "source": [
    "Title: \"edX Capstone Movielens Project\"<br>\n",
    "Author: \"Ciro B Rosa\"<br>\n",
    "Date: \"27-Sep-2021\"<br>\n",
    "Output: Jupyter Notebook<br>"
   ]
  },
  {
   "cell_type": "markdown",
   "id": "a4437bfe",
   "metadata": {},
   "source": [
    "### Introduction and Objective\n",
    "\n",
    "This report is the result of the job performed on top of the \"Movielens\" dataset. The objective is to design a machine learning model that predicts movie ratings for a given user that has not previously seen that movie, based on data such as previous rating to other movies, user's preferences, etc. The level of efficiency of the model is measured as RMSE (Root Mean Square Error), which means the lowest it the best.\n",
    "\n",
    "### Before you Begin: Prepare the Environment\n",
    "This code has been tested on a specific Anaconda environment created under Ubuntu 20.04 Linux Mate machine. All necessary scripts can be downloaded from this author GitHub:\n",
    "\n",
    "* https://github.com/cirobr/ds9-capstone-movielens.git\n",
    "\n",
    "As such, pease kindly download the above GitHub project. Next, the user should download and install Anaconda\n",
    "\n",
    "* https://www.anaconda.com/products/individual-d\n",
    "\n",
    "and then create an environment \"r-gpu\" with te following terminal commands:\n",
    "\n",
    "* conda create --name r-gpu python=3.9 notebook r-base=4.1 r-essentials r-e1071 r-irkernel r-varhandle r-foreach r-doparallel r-reticulate r-keras r-tfdatasets\n",
    "\n",
    "* Rscript install-keras-gpu.R\n",
    "\n",
    "Lastly, please execute the script to download the Movielens datasets. The below script executes the code provided by edX to generate the datasets and stores the files \"edx.csv\" and \"validation.csv\" on the subfolder \"./dat\", which is also created in the process.\n",
    "\n",
    "* Rscript code-preset.R\n",
    "\n",
    "At this point, the code is ready for execution, for instance, on RStudio, through this script:\n",
    "\n",
    "* code-movielens.R\n",
    "\n",
    "\n",
    "### Code Organization and Project Development.\n",
    "\n",
    "The code is developed in such a way as to execute the following tasks:\n",
    "\n",
    "* Setup environment, libraries and define key functions, such as to calculate RMSE;\n",
    "* Read the edX dataset and split it on trainset / testset;\n",
    "* Create, train and evaluate the model (naive average and neural network);\n",
    "* Validate the model with the \"validation\" data set, and present the results.\n",
    "\n",
    "The report will present all relevant outputs, as appropriate, in order to evidence the steps taken.\n",
    "\n",
    "\n",
    "### Project Development\n",
    "\n",
    "#### Setup environment\n"
   ]
  },
  {
   "cell_type": "code",
   "execution_count": 2,
   "id": "62cbd544",
   "metadata": {},
   "outputs": [],
   "source": [
    "oldw <- getOption(\"warn\")\n",
    "options(warn = -1)\n",
    "\n",
    "# environment\n",
    "library(reticulate)                         # interface R and Python\n",
    "use_condaenv(\"r-gpu\", required = TRUE)      # conda env for running tf and keras on gpu\n",
    "\n",
    "# libraries\n",
    "# library(stringi)                          # used as stringi::stri_sub()\n",
    "library(ggplot2)\n",
    "library(lubridate)\n",
    "library(tidyverse)\n",
    "library(caret)\n",
    "library(foreach)                            # multi-core computing for nzv()\n",
    "library(keras)                              # tensorflow wrap\n",
    "library(tfdatasets)"
   ]
  },
  {
   "cell_type": "code",
   "execution_count": null,
   "id": "e5bacb88",
   "metadata": {},
   "outputs": [],
   "source": []
  }
 ],
 "metadata": {
  "kernelspec": {
   "display_name": "R",
   "language": "R",
   "name": "ir"
  },
  "language_info": {
   "codemirror_mode": "r",
   "file_extension": ".r",
   "mimetype": "text/x-r-source",
   "name": "R",
   "pygments_lexer": "r",
   "version": "4.1.1"
  }
 },
 "nbformat": 4,
 "nbformat_minor": 5
}
